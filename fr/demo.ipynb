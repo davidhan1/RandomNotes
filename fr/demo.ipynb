{
 "cells": [
  {
   "cell_type": "code",
   "execution_count": null,
   "metadata": {},
   "outputs": [],
   "source": [
    "# reference: https://saiashish90.medium.com/facial-similarity-using-opencv-and-dlib-dc03f745cf10\n",
    "\n",
    "import dlib\n",
    "import numpy as np\n",
    "import cv2\n",
    "\n",
    "\n",
    "def getFace(img):\n",
    "  face_detector = dlib.get_frontal_face_detector()\n",
    "  return face_detector(img, 1)[0]\n",
    "\n",
    "def encodeFace(image):\n",
    "  face_location = getFace(image)\n",
    "  pose_predictor = dlib.shape_predictor('shape_predictor_68_face_landmarks.dat')\n",
    "  face_landmarks = pose_predictor(image, face_location)\n",
    "  face_encoder = dlib.face_recognition_model_v1('dlib_face_recognition_resnet_model_v1.dat')\n",
    "  face = dlib.get_face_chip(image, face_landmarks)\n",
    "  encodings = np.array(face_encoder.compute_face_descriptor(face))\n",
    "  return encodings\n",
    "\n",
    "def getSimilarity(image1, image2):\n",
    "  face1_embeddings = encodeFace(image1)\n",
    "  face2_embeddings = encodeFace(image2)\n",
    "  return np.linalg.norm(face1_embeddings-face2_embeddings)\n",
    "\n",
    "img1 = cv2.imread('face1.png')\n",
    "img2 = cv2.imread('face2.png')\n",
    "\n",
    "distance = getSimilarity(img1,img2)\n",
    "print(distance)\n",
    "if distance < .6:\n",
    "  print(\"Faces are of the same person.\")\n",
    "else:\n",
    "  print(\"Faces are of different people.\")"
   ]
  }
 ],
 "metadata": {
  "kernelspec": {
   "display_name": "bevfusion",
   "language": "python",
   "name": "python3"
  },
  "language_info": {
   "codemirror_mode": {
    "name": "ipython",
    "version": 3
   },
   "file_extension": ".py",
   "mimetype": "text/x-python",
   "name": "python",
   "nbconvert_exporter": "python",
   "pygments_lexer": "ipython3",
   "version": "3.9.13"
  },
  "orig_nbformat": 4
 },
 "nbformat": 4,
 "nbformat_minor": 2
}
