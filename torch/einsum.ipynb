{
 "cells": [
  {
   "cell_type": "code",
   "execution_count": 1,
   "metadata": {},
   "outputs": [
    {
     "name": "stdout",
     "output_type": "stream",
     "text": [
      "Result of element-wise multiplication:\n",
      "tensor([ 4, 10, 18])\n"
     ]
    }
   ],
   "source": [
    "import torch\n",
    "\n",
    "# Define two tensors\n",
    "x = torch.tensor([1, 2, 3])\n",
    "y = torch.tensor([4, 5, 6])\n",
    "\n",
    "# Element-wise multiplication using torch.einsum\n",
    "result = torch.einsum('i,i->i', x, y)\n",
    "\n",
    "print(\"Result of element-wise multiplication:\")\n",
    "print(result)\n"
   ]
  },
  {
   "cell_type": "code",
   "execution_count": 2,
   "metadata": {},
   "outputs": [
    {
     "name": "stdout",
     "output_type": "stream",
     "text": [
      "Result of dot product:\n",
      "tensor(32)\n"
     ]
    }
   ],
   "source": [
    "import torch\n",
    "\n",
    "# Define two tensors\n",
    "x = torch.tensor([1, 2, 3])\n",
    "y = torch.tensor([4, 5, 6])\n",
    "\n",
    "# Dot product using torch.einsum\n",
    "result = torch.einsum('i,i->', x, y)\n",
    "\n",
    "print(\"Result of dot product:\")\n",
    "print(result)\n"
   ]
  },
  {
   "cell_type": "code",
   "execution_count": 3,
   "metadata": {},
   "outputs": [
    {
     "name": "stdout",
     "output_type": "stream",
     "text": [
      "Result of transpose:\n",
      "tensor([[1, 3],\n",
      "        [2, 4]])\n"
     ]
    }
   ],
   "source": [
    "import torch\n",
    "\n",
    "# Define a tensor\n",
    "x = torch.tensor([[1, 2], [3, 4]])\n",
    "\n",
    "# Transpose using torch.einsum\n",
    "result = torch.einsum('ij->ji', x)\n",
    "\n",
    "print(\"Result of transpose:\")\n",
    "print(result)\n"
   ]
  },
  {
   "cell_type": "code",
   "execution_count": 5,
   "metadata": {},
   "outputs": [
    {
     "name": "stdout",
     "output_type": "stream",
     "text": [
      "shape of x: torch.Size([2, 2, 2])\n",
      "shape of y: torch.Size([2, 2, 2])\n",
      "Result of batch matrix multiplication:\n",
      "tensor([[[ 31,  34],\n",
      "         [ 71,  78]],\n",
      "\n",
      "        [[155, 166],\n",
      "         [211, 226]]])\n"
     ]
    }
   ],
   "source": [
    "import torch\n",
    "\n",
    "# Define three tensors of shape (2, 2, 2)\n",
    "x = torch.tensor([[[1, 2], [3, 4]], [[5, 6], [7, 8]]])\n",
    "y = torch.tensor([[[9, 10], [11, 12]], [[13, 14], [15, 16]]])\n",
    "\n",
    "print(f'shape of x: {x.shape}')\n",
    "print(f'shape of y: {y.shape}')\n",
    "\n",
    "# Batch matrix multiplication using torch.einsum\n",
    "result = torch.einsum('bij,bjk->bik', x, y)\n",
    "\n",
    "print(\"Result of batch matrix multiplication:\")\n",
    "print(result)\n"
   ]
  }
 ],
 "metadata": {
  "kernelspec": {
   "display_name": "base",
   "language": "python",
   "name": "python3"
  },
  "language_info": {
   "codemirror_mode": {
    "name": "ipython",
    "version": 3
   },
   "file_extension": ".py",
   "mimetype": "text/x-python",
   "name": "python",
   "nbconvert_exporter": "python",
   "pygments_lexer": "ipython3",
   "version": "3.7.10"
  },
  "orig_nbformat": 4
 },
 "nbformat": 4,
 "nbformat_minor": 2
}
